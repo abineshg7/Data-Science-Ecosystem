{
 "cells": [
  {
   "cell_type": "markdown",
   "id": "08f6701f-fa3d-4d6a-adb4-278158c63ee8",
   "metadata": {},
   "source": [
    "# Data Science Tools and Ecosystem"
   ]
  },
  {
   "cell_type": "markdown",
   "id": "192ad0ef-97ff-454c-ae33-e387ebfd09ed",
   "metadata": {},
   "source": [
    "This notebook provides an overview of various Data Science tools and ecosystems."
   ]
  },
  {
   "cell_type": "markdown",
   "id": "713ec889-258d-4859-bd7f-b43dc10b23ef",
   "metadata": {},
   "source": [
    "Some of the popular languages that Data Scientists use are:\n",
    "\n",
    "1. Python\n",
    "2. R\n",
    "3. SQL"
   ]
  },
  {
   "cell_type": "markdown",
   "id": "c4daef21-7753-4082-842b-4d192f3e2a1e",
   "metadata": {},
   "source": [
    "Some of the commonly used libraries used by Data Scientists include:\n",
    "\n",
    "1. NumPy\n",
    "2. Pandas\n",
    "3. Matplotlib"
   ]
  },
  {
   "cell_type": "markdown",
   "id": "f466af22-ad6c-4f11-8165-a69f94033558",
   "metadata": {},
   "source": [
    "| Data Science Tools      |\n",
    "|-------------------------|\n",
    "| Jupyter Notebook        |\n",
    "| RStudio                 |\n",
    "| Apache Zeppelin         |\n"
   ]
  },
  {
   "cell_type": "markdown",
   "id": "775eca75-69f7-4d5c-a626-d69acff62034",
   "metadata": {},
   "source": [
    "### Below are a few examples of evaluating arithmetic expressions in Python."
   ]
  },
  {
   "cell_type": "markdown",
   "id": "2c5ea541-f36e-4c99-b231-9a2037981641",
   "metadata": {},
   "source": [
    "This is a simple arithmetic expression to multiply then add integers."
   ]
  },
  {
   "cell_type": "code",
   "execution_count": 2,
   "id": "664ce311-639c-4afd-b65f-b0f792fd1a0b",
   "metadata": {},
   "outputs": [
    {
     "data": {
      "text/plain": [
       "17"
      ]
     },
     "execution_count": 2,
     "metadata": {},
     "output_type": "execute_result"
    }
   ],
   "source": [
    "(3 * 4) + 5"
   ]
  },
  {
   "cell_type": "code",
   "execution_count": 3,
   "id": "154bab4a-cad1-42ea-9615-6f58e439fe3d",
   "metadata": {},
   "outputs": [
    {
     "data": {
      "text/plain": [
       "3.3333333333333335"
      ]
     },
     "execution_count": 3,
     "metadata": {},
     "output_type": "execute_result"
    }
   ],
   "source": [
    "# This will convert 200 minutes to hours by dividing by 60\n",
    "200 / 60"
   ]
  },
  {
   "cell_type": "markdown",
   "id": "c42ca9e7-c0a2-4a0b-a7fd-ad68ac0adf71",
   "metadata": {},
   "source": [
    "**Objectives:**\n",
    "\n",
    "- List popular languages for Data Science\n",
    "- List commonly used libraries in Data Science\n",
    "- Describe development environment tools for Data Science\n",
    "- Provide examples of evaluating arithmetic expressions in Python\n",
    "- Demonstrate converting units in Python (e.g., minutes to hours)\n"
   ]
  },
  {
   "cell_type": "markdown",
   "id": "2ed50cfd-0f58-4916-b40b-872661dd1de2",
   "metadata": {},
   "source": [
    "## Author\n",
    "Abineshwar G"
   ]
  },
  {
   "cell_type": "code",
   "execution_count": null,
   "id": "bf1ef3b3-833f-4635-aa41-a859b957fdd1",
   "metadata": {},
   "outputs": [],
   "source": []
  }
 ],
 "metadata": {
  "kernelspec": {
   "display_name": "Python 3 (ipykernel)",
   "language": "python",
   "name": "python3"
  },
  "language_info": {
   "codemirror_mode": {
    "name": "ipython",
    "version": 3
   },
   "file_extension": ".py",
   "mimetype": "text/x-python",
   "name": "python",
   "nbconvert_exporter": "python",
   "pygments_lexer": "ipython3",
   "version": "3.12.3"
  }
 },
 "nbformat": 4,
 "nbformat_minor": 5
}
